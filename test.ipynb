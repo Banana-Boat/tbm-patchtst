{
 "cells": [
  {
   "cell_type": "code",
   "execution_count": 3,
   "metadata": {
    "collapsed": true
   },
   "outputs": [
    {
     "name": "stdout",
     "output_type": "stream",
     "text": [
      "tensor([ 1.6015, -0.9438, -1.6133,  0.6748, -0.4357,  0.3231,  2.1549,  0.7572,\n",
      "        -1.7033, -2.5768])\n"
     ]
    }
   ],
   "source": [
    "import torch.nn as nn\n",
    "import torch\n",
    "import numpy as np\n",
    "\n",
    "\n",
    "# arr = torch.randn(128, 96, 7)\n",
    "# conv1 = nn.Conv1d(in_channels=7, out_channels=512, kernel_size=3, padding=1, padding_mode='circular', bias=False)\n",
    "# res = conv1(arr.permute(0, 2, 1)).transpose(1,2)\n",
    "# print(res.shape)\n",
    "\n",
    "arr = torch.randn(10)\n",
    "print(arr[0:])\n",
    "\n",
    "# pe = torch.zeros(5000, 512).float()\n",
    "# position = torch.arange(0, 5000).float().unsqueeze(1)\n",
    "# print(position)\n"
   ]
  },
  {
   "cell_type": "code",
   "execution_count": null,
   "outputs": [],
   "source": [],
   "metadata": {
    "collapsed": false
   }
  }
 ],
 "metadata": {
  "kernelspec": {
   "display_name": "Python 3",
   "language": "python",
   "name": "python3"
  },
  "language_info": {
   "codemirror_mode": {
    "name": "ipython",
    "version": 2
   },
   "file_extension": ".py",
   "mimetype": "text/x-python",
   "name": "python",
   "nbconvert_exporter": "python",
   "pygments_lexer": "ipython2",
   "version": "2.7.6"
  }
 },
 "nbformat": 4,
 "nbformat_minor": 0
}
